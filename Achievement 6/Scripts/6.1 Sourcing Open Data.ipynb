{
 "cells": [
  {
   "cell_type": "code",
   "execution_count": 1,
   "id": "443337c3-84c9-4afa-adb4-2d21511f3cb4",
   "metadata": {},
   "outputs": [],
   "source": [
    "# Importing Library\n",
    "import pandas as pd\n",
    "\n",
    "# Creating path\n",
    "path = r\"C:\\Users\\henry\\OneDrive\\Achievement 6\\flavors_of_cacao.csv\"\n",
    "\n",
    "# importing dataset\n",
    "df = pd.read_csv(path)"
   ]
  },
  {
   "cell_type": "code",
   "execution_count": 2,
   "id": "f5d0c831-2575-4b58-8e78-881a156fcb50",
   "metadata": {},
   "outputs": [
    {
     "data": {
      "text/html": [
       "<div>\n",
       "<style scoped>\n",
       "    .dataframe tbody tr th:only-of-type {\n",
       "        vertical-align: middle;\n",
       "    }\n",
       "\n",
       "    .dataframe tbody tr th {\n",
       "        vertical-align: top;\n",
       "    }\n",
       "\n",
       "    .dataframe thead th {\n",
       "        text-align: right;\n",
       "    }\n",
       "</style>\n",
       "<table border=\"1\" class=\"dataframe\">\n",
       "  <thead>\n",
       "    <tr style=\"text-align: right;\">\n",
       "      <th></th>\n",
       "      <th>Company \\n(Maker-if known)</th>\n",
       "      <th>Specific Bean Origin\\nor Bar Name</th>\n",
       "      <th>REF</th>\n",
       "      <th>Review\\nDate</th>\n",
       "      <th>Cocoa\\nPercent</th>\n",
       "      <th>Company\\nLocation</th>\n",
       "      <th>Rating</th>\n",
       "      <th>Bean\\nType</th>\n",
       "      <th>Broad Bean\\nOrigin</th>\n",
       "    </tr>\n",
       "  </thead>\n",
       "  <tbody>\n",
       "    <tr>\n",
       "      <th>0</th>\n",
       "      <td>A. Morin</td>\n",
       "      <td>Agua Grande</td>\n",
       "      <td>1876</td>\n",
       "      <td>2016</td>\n",
       "      <td>63%</td>\n",
       "      <td>France</td>\n",
       "      <td>3.75</td>\n",
       "      <td></td>\n",
       "      <td>Sao Tome</td>\n",
       "    </tr>\n",
       "    <tr>\n",
       "      <th>1</th>\n",
       "      <td>A. Morin</td>\n",
       "      <td>Kpime</td>\n",
       "      <td>1676</td>\n",
       "      <td>2015</td>\n",
       "      <td>70%</td>\n",
       "      <td>France</td>\n",
       "      <td>2.75</td>\n",
       "      <td></td>\n",
       "      <td>Togo</td>\n",
       "    </tr>\n",
       "    <tr>\n",
       "      <th>2</th>\n",
       "      <td>A. Morin</td>\n",
       "      <td>Atsane</td>\n",
       "      <td>1676</td>\n",
       "      <td>2015</td>\n",
       "      <td>70%</td>\n",
       "      <td>France</td>\n",
       "      <td>3.00</td>\n",
       "      <td></td>\n",
       "      <td>Togo</td>\n",
       "    </tr>\n",
       "    <tr>\n",
       "      <th>3</th>\n",
       "      <td>A. Morin</td>\n",
       "      <td>Akata</td>\n",
       "      <td>1680</td>\n",
       "      <td>2015</td>\n",
       "      <td>70%</td>\n",
       "      <td>France</td>\n",
       "      <td>3.50</td>\n",
       "      <td></td>\n",
       "      <td>Togo</td>\n",
       "    </tr>\n",
       "    <tr>\n",
       "      <th>4</th>\n",
       "      <td>A. Morin</td>\n",
       "      <td>Quilla</td>\n",
       "      <td>1704</td>\n",
       "      <td>2015</td>\n",
       "      <td>70%</td>\n",
       "      <td>France</td>\n",
       "      <td>3.50</td>\n",
       "      <td></td>\n",
       "      <td>Peru</td>\n",
       "    </tr>\n",
       "  </tbody>\n",
       "</table>\n",
       "</div>"
      ],
      "text/plain": [
       "  Company \\n(Maker-if known) Specific Bean Origin\\nor Bar Name   REF  \\\n",
       "0                   A. Morin                       Agua Grande  1876   \n",
       "1                   A. Morin                             Kpime  1676   \n",
       "2                   A. Morin                            Atsane  1676   \n",
       "3                   A. Morin                             Akata  1680   \n",
       "4                   A. Morin                            Quilla  1704   \n",
       "\n",
       "   Review\\nDate Cocoa\\nPercent Company\\nLocation  Rating Bean\\nType  \\\n",
       "0          2016            63%            France    3.75              \n",
       "1          2015            70%            France    2.75              \n",
       "2          2015            70%            France    3.00              \n",
       "3          2015            70%            France    3.50              \n",
       "4          2015            70%            France    3.50              \n",
       "\n",
       "  Broad Bean\\nOrigin  \n",
       "0           Sao Tome  \n",
       "1               Togo  \n",
       "2               Togo  \n",
       "3               Togo  \n",
       "4               Peru  "
      ]
     },
     "execution_count": 2,
     "metadata": {},
     "output_type": "execute_result"
    }
   ],
   "source": [
    "df.head()"
   ]
  },
  {
   "cell_type": "code",
   "execution_count": 3,
   "id": "da919d1a-c3c8-49f7-af84-eee64c1d2944",
   "metadata": {},
   "outputs": [],
   "source": [
    "\n",
    "# Standardize Column Names\n",
    "# Replace newline characters and extra spaces for consistency\n",
    "df.columns = [col.replace('\\n', ' ').strip() for col in df.columns]\n",
    "\n",
    "df.rename(columns={\n",
    "    'Company  (Maker-if known)': 'Company',\n",
    "    'Specific Bean Origin or Bar Name': 'BarName',\n",
    "    'Review Date': 'ReviewDate',\n",
    "    'Cocoa Percent': 'CocoaPercent',\n",
    "    'Company Location': 'Location',\n",
    "    'Bean Type': 'BeanType',\n",
    "    'Broad Bean Origin': 'BroadOrigin'\n",
    "}, inplace=True)"
   ]
  },
  {
   "cell_type": "code",
   "execution_count": 4,
   "id": "34bb1ab0-3241-4dfe-badd-71f846c64e94",
   "metadata": {},
   "outputs": [
    {
     "data": {
      "text/plain": [
       "Index(['Company  (Maker-if known)', 'BarName', 'REF', 'ReviewDate',\n",
       "       'CocoaPercent', 'Location', 'Rating', 'BeanType', 'BroadOrigin'],\n",
       "      dtype='object')"
      ]
     },
     "execution_count": 4,
     "metadata": {},
     "output_type": "execute_result"
    }
   ],
   "source": [
    "df.columns"
   ]
  },
  {
   "cell_type": "code",
   "execution_count": 5,
   "id": "00ce9fb4-3018-4c71-a2e7-f6ff0227b240",
   "metadata": {},
   "outputs": [
    {
     "data": {
      "text/plain": [
       "count    1795.000000\n",
       "mean       71.698329\n",
       "std         6.323118\n",
       "min        42.000000\n",
       "25%        70.000000\n",
       "50%        70.000000\n",
       "75%        75.000000\n",
       "max       100.000000\n",
       "Name: CocoaPercent, dtype: float64"
      ]
     },
     "execution_count": 5,
     "metadata": {},
     "output_type": "execute_result"
    }
   ],
   "source": [
    "#  Convert CocoaPercent to Numeric\n",
    "# change the '%' symbol and convert to float\n",
    "df['CocoaPercent'] = df['CocoaPercent'].str.rstrip('%').astype(float)\n",
    "df['CocoaPercent'].describe()"
   ]
  },
  {
   "cell_type": "code",
   "execution_count": 6,
   "id": "82b2ea89-fb8a-45c4-a311-1b81cd627634",
   "metadata": {},
   "outputs": [
    {
     "name": "stdout",
     "output_type": "stream",
     "text": [
      "Missing BroadOrigin: 1\n"
     ]
    }
   ],
   "source": [
    "# Missing Values\n",
    "# Fill blank or NaN BeanType entries with 'Unknown'\n",
    "df['BeanType'] = df['BeanType'].fillna('').replace('', 'Unknown')\n",
    "# Count any missing BroadOrigin entries\n",
    "print(\"Missing BroadOrigin:\", df['BroadOrigin'].isna().sum())"
   ]
  },
  {
   "cell_type": "code",
   "execution_count": 7,
   "id": "6015b02d-c875-476c-8c3b-38da1719363d",
   "metadata": {},
   "outputs": [
    {
     "name": "stdout",
     "output_type": "stream",
     "text": [
      "Exact duplicate rows: 0\n"
     ]
    }
   ],
   "source": [
    "# Check for Duplicates\n",
    "print(\"Exact duplicate rows:\", df.duplicated().sum())"
   ]
  },
  {
   "cell_type": "code",
   "execution_count": 8,
   "id": "1f466458-7d57-487c-aff6-2165eed9fb90",
   "metadata": {},
   "outputs": [
    {
     "name": "stdout",
     "output_type": "stream",
     "text": [
      "Top 5 REF review counts:\n",
      " REF\n",
      "414    10\n",
      "404     9\n",
      "24      9\n",
      "387     9\n",
      "32      8\n",
      "Name: count, dtype: int64\n"
     ]
    }
   ],
   "source": [
    "# Review counts per REF (bars reviewed multiple times)\n",
    "print(\"Top 5 REF review counts:\\n\", df['REF'].value_counts().head())"
   ]
  },
  {
   "cell_type": "code",
   "execution_count": 9,
   "id": "a65d1e92-1a34-4ab3-a180-2f2031cdb438",
   "metadata": {},
   "outputs": [
    {
     "name": "stdout",
     "output_type": "stream",
     "text": [
      "\n",
      "Continuous variable summary:\n",
      "            Rating  CocoaPercent   ReviewDate\n",
      "count  1795.000000   1795.000000  1795.000000\n",
      "mean      3.185933     71.698329  2012.325348\n",
      "std       0.478062      6.323118     2.927210\n",
      "min       1.000000     42.000000  2006.000000\n",
      "25%       2.875000     70.000000  2010.000000\n",
      "50%       3.250000     70.000000  2013.000000\n",
      "75%       3.500000     75.000000  2015.000000\n",
      "max       5.000000    100.000000  2017.000000\n"
     ]
    }
   ],
   "source": [
    "# Basic Descriptive Statistics\n",
    "print(\"\\nContinuous variable summary:\")\n",
    "print(df[['Rating', 'CocoaPercent', 'ReviewDate']].describe())"
   ]
  },
  {
   "cell_type": "code",
   "execution_count": 10,
   "id": "7b9e563f-6a4d-496b-890a-9bb4153b37e5",
   "metadata": {},
   "outputs": [
    {
     "name": "stdout",
     "output_type": "stream",
     "text": [
      "Cleaned data saved to: C:\\Users\\henry\\OneDrive\\Achievement 6\\flavors_of_cacao_cleaned.csv\n"
     ]
    }
   ],
   "source": [
    "# Defining output path\n",
    "cleaned_data = r\"C:\\Users\\henry\\OneDrive\\Achievement 6\\flavors_of_cacao_cleaned.csv\"\n",
    "\n",
    "# Writing out the cleaned DataFrame\n",
    "df.to_csv(cleaned_data, index=False)\n",
    "\n",
    "print(f\"Cleaned data saved to: {cleaned_data}\")\n"
   ]
  },
  {
   "cell_type": "code",
   "execution_count": null,
   "id": "8cbfbbd5-98fb-45d8-b690-167efe0bb81c",
   "metadata": {},
   "outputs": [],
   "source": []
  }
 ],
 "metadata": {
  "kernelspec": {
   "display_name": "Python [conda env:base] *",
   "language": "python",
   "name": "conda-base-py"
  },
  "language_info": {
   "codemirror_mode": {
    "name": "ipython",
    "version": 3
   },
   "file_extension": ".py",
   "mimetype": "text/x-python",
   "name": "python",
   "nbconvert_exporter": "python",
   "pygments_lexer": "ipython3",
   "version": "3.12.7"
  }
 },
 "nbformat": 4,
 "nbformat_minor": 5
}
