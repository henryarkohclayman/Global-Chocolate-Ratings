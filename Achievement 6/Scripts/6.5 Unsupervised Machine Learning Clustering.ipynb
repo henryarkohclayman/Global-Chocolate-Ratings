{
 "cells": [
  {
   "cell_type": "markdown",
   "id": "6a0b1792-7f28-4699-9155-3f481da53bb3",
   "metadata": {},
   "source": [
    "6.5 Machine Learning Part 2"
   ]
  },
  {
   "cell_type": "markdown",
   "id": "c4663ba3-181e-451a-91f0-4b818bfe7105",
   "metadata": {},
   "source": [
    "This script contains the following:\n",
    "1. Importing libraries and data and renaming columns\n",
    "2. The elbow technique\n",
    "3. k-means clustering"
   ]
  },
  {
   "cell_type": "markdown",
   "id": "79b4abef-5b47-4129-9b91-a8e182c5afbd",
   "metadata": {},
   "source": [
    "Import Libraries"
   ]
  },
  {
   "cell_type": "code",
   "execution_count": 4,
   "id": "0cd12220-dabf-4a95-83f8-e65dc3d396b0",
   "metadata": {},
   "outputs": [],
   "source": [
    "import pandas as pd\n",
    "import numpy as np\n",
    "import seaborn as sns\n",
    "import matplotlib\n",
    "import matplotlib.pyplot as plt\n",
    "import os\n",
    "import sklearn\n",
    "from sklearn.preprocessing import StandardScaler\n",
    "from sklearn.cluster import KMeans # Here is where you import the k-means algorithm from scikit-learn.\n",
    "import pylab as pl # PyLab is a convenience module that bulk imports matplotlib."
   ]
  },
  {
   "cell_type": "code",
   "execution_count": 5,
   "id": "3993bc94-6026-42f7-b3ef-2c3551ede19e",
   "metadata": {},
   "outputs": [],
   "source": [
    "# This option ensures that the graphs you create are displayed within the notebook without the need to \"call\" them specifically.\n",
    "\n",
    "%matplotlib inline"
   ]
  },
  {
   "cell_type": "markdown",
   "id": "a324ce9d-6ec6-48c2-9a84-44d77b69b873",
   "metadata": {},
   "source": [
    "Import Dataframe"
   ]
  },
  {
   "cell_type": "code",
   "execution_count": 7,
   "id": "5eada809-cee7-43a9-b13f-907fac877182",
   "metadata": {},
   "outputs": [],
   "source": [
    "# Importing dataframe\n",
    "path = r'C:\\Users\\henry\\OneDrive\\Achievement 6'\n",
    "df = pd.read_csv(os.path.join(path, 'Data', 'flavors_of_cacao_cleaned.csv'))"
   ]
  },
  {
   "cell_type": "markdown",
   "id": "7a6c0546-b936-43a9-a2cf-f8df0f7b8d59",
   "metadata": {},
   "source": [
    "Data Cleaning"
   ]
  },
  {
   "cell_type": "code",
   "execution_count": 9,
   "id": "d086c529-8ace-4a69-a260-1a00f0fc7be0",
   "metadata": {},
   "outputs": [
    {
     "data": {
      "text/plain": [
       "<bound method NDFrame.head of      Company  (Maker-if known)             BarName   REF  ReviewDate  \\\n",
       "0                     A. Morin         Agua Grande  1876        2016   \n",
       "1                     A. Morin               Kpime  1676        2015   \n",
       "2                     A. Morin              Atsane  1676        2015   \n",
       "3                     A. Morin               Akata  1680        2015   \n",
       "4                     A. Morin              Quilla  1704        2015   \n",
       "...                        ...                 ...   ...         ...   \n",
       "1790                    Zotter                Peru   647        2011   \n",
       "1791                    Zotter               Congo   749        2011   \n",
       "1792                    Zotter        Kerala State   749        2011   \n",
       "1793                    Zotter        Kerala State   781        2011   \n",
       "1794                    Zotter  Brazil, Mitzi Blue   486        2010   \n",
       "\n",
       "      CocoaPercent Location  Rating   BeanType BroadOrigin  \n",
       "0             63.0   France    3.75               Sao Tome  \n",
       "1             70.0   France    2.75                   Togo  \n",
       "2             70.0   France    3.00                   Togo  \n",
       "3             70.0   France    3.50                   Togo  \n",
       "4             70.0   France    3.50                   Peru  \n",
       "...            ...      ...     ...        ...         ...  \n",
       "1790          70.0  Austria    3.75                   Peru  \n",
       "1791          65.0  Austria    3.00  Forastero       Congo  \n",
       "1792          65.0  Austria    3.50  Forastero       India  \n",
       "1793          62.0  Austria    3.25                  India  \n",
       "1794          65.0  Austria    3.00                 Brazil  \n",
       "\n",
       "[1795 rows x 9 columns]>"
      ]
     },
     "execution_count": 9,
     "metadata": {},
     "output_type": "execute_result"
    }
   ],
   "source": [
    "df.head\n"
   ]
  },
  {
   "cell_type": "code",
   "execution_count": 10,
   "id": "4562108c-5ae2-4689-b720-e65d5b24e168",
   "metadata": {},
   "outputs": [],
   "source": [
    "# Drop columns not used in EDA\n",
    "for col in ['REF', 'BarName']:\n",
    "    if col in df.columns:\n",
    "        df.drop(columns=col, inplace=True)"
   ]
  },
  {
   "cell_type": "code",
   "execution_count": 11,
   "id": "c9e3bdab-a79d-47e5-952d-2665ea251cf1",
   "metadata": {},
   "outputs": [
    {
     "data": {
      "text/plain": [
       "((1795, 7),\n",
       " ['Company\\xa0 (Maker-if known)',\n",
       "  'ReviewDate',\n",
       "  'CocoaPercent',\n",
       "  'Location',\n",
       "  'Rating',\n",
       "  'BeanType',\n",
       "  'BroadOrigin'])"
      ]
     },
     "execution_count": 11,
     "metadata": {},
     "output_type": "execute_result"
    }
   ],
   "source": [
    "# Confirm final shape and columns\n",
    "df.shape, df.columns.tolist()"
   ]
  },
  {
   "cell_type": "code",
   "execution_count": 12,
   "id": "6949e1ac-63ff-44fb-a706-38366dd7b89c",
   "metadata": {},
   "outputs": [],
   "source": [
    "# Normalize all column names: replace any \\xa0 with a normal space, then strip leading/trailing whitespace\n",
    "df.columns = [col.replace('\\xa0', ' ').strip() for col in df.columns]"
   ]
  },
  {
   "cell_type": "code",
   "execution_count": 13,
   "id": "d693854c-d1f8-4f2c-bf3b-59a52db8f35a",
   "metadata": {},
   "outputs": [
    {
     "data": {
      "text/plain": [
       "['Company',\n",
       " 'ReviewDate',\n",
       " 'CocoaPercent',\n",
       " 'Location',\n",
       " 'Rating',\n",
       " 'BeanType',\n",
       " 'BroadOrigin']"
      ]
     },
     "execution_count": 13,
     "metadata": {},
     "output_type": "execute_result"
    }
   ],
   "source": [
    "# Now rename the cleaned header\n",
    "df.rename(columns={'Company  (Maker-if known)': 'Company'}, inplace=True)\n",
    "df.columns.tolist()"
   ]
  },
  {
   "cell_type": "code",
   "execution_count": 14,
   "id": "a251146b-6f9a-410f-8ce0-1d4ce16889f6",
   "metadata": {},
   "outputs": [
    {
     "data": {
      "text/plain": [
       "Company         0\n",
       "ReviewDate      0\n",
       "CocoaPercent    0\n",
       "Location        0\n",
       "Rating          0\n",
       "BeanType        0\n",
       "BroadOrigin     1\n",
       "dtype: int64"
      ]
     },
     "execution_count": 14,
     "metadata": {},
     "output_type": "execute_result"
    }
   ],
   "source": [
    "# Check for missing values\n",
    "df.isnull().sum()"
   ]
  },
  {
   "cell_type": "code",
   "execution_count": 15,
   "id": "7178695a-ce15-4fad-b82c-8bff867075ea",
   "metadata": {},
   "outputs": [],
   "source": [
    "# replace missing value for the BroadOrigin column with unknown\n",
    "df['BroadOrigin'] = df['BroadOrigin'].fillna('unknown')"
   ]
  },
  {
   "cell_type": "code",
   "execution_count": 16,
   "id": "3df54c55-030a-4d58-bbe2-c18a94e1d3fc",
   "metadata": {},
   "outputs": [
    {
     "data": {
      "text/plain": [
       "Company         0\n",
       "ReviewDate      0\n",
       "CocoaPercent    0\n",
       "Location        0\n",
       "Rating          0\n",
       "BeanType        0\n",
       "BroadOrigin     0\n",
       "dtype: int64"
      ]
     },
     "execution_count": 16,
     "metadata": {},
     "output_type": "execute_result"
    }
   ],
   "source": [
    "# Verify replacement\n",
    "df.isnull().sum()"
   ]
  },
  {
   "cell_type": "code",
   "execution_count": 17,
   "id": "6b66836c-8a54-4c5b-9502-a353751aca57",
   "metadata": {},
   "outputs": [],
   "source": [
    "# Duplicates check\n",
    "dups = df.duplicated()"
   ]
  },
  {
   "cell_type": "code",
   "execution_count": 18,
   "id": "6f30a6fc-1b92-4da2-9e65-4e5527c130e1",
   "metadata": {},
   "outputs": [
    {
     "data": {
      "text/plain": [
       "(1795,)"
      ]
     },
     "execution_count": 18,
     "metadata": {},
     "output_type": "execute_result"
    }
   ],
   "source": [
    "dups.shape"
   ]
  },
  {
   "cell_type": "markdown",
   "id": "f52f9251-5fd2-457a-b123-d2db3caaf449",
   "metadata": {},
   "source": [
    "No duplicates"
   ]
  },
  {
   "cell_type": "markdown",
   "id": "36ed43d6-2a19-4018-82f8-781937f59238",
   "metadata": {},
   "source": [
    "### Data prep for k-means clustering\n"
   ]
  },
  {
   "cell_type": "code",
   "execution_count": 21,
   "id": "325d20c8-cf44-43ad-8a65-2e50c0d4dbe9",
   "metadata": {},
   "outputs": [],
   "source": [
    "# Select numeric features for clustering\n",
    "X = df[['CocoaPercent', 'Rating']].values"
   ]
  },
  {
   "cell_type": "code",
   "execution_count": 22,
   "id": "7c1bdede-87b7-4108-bafe-a3f982e6ac3b",
   "metadata": {},
   "outputs": [],
   "source": [
    "# Standardize features\n",
    "scaler = StandardScaler()\n",
    "X_scaled = scaler.fit_transform(X)"
   ]
  },
  {
   "cell_type": "markdown",
   "id": "f24425b6-b9f0-41ae-a9ef-ba52679b0e32",
   "metadata": {},
   "source": [
    "### Elbow technique for k selection\n"
   ]
  },
  {
   "cell_type": "code",
   "execution_count": 24,
   "id": "744c8322-119f-49fc-a3e1-2dd8fbd3f5d5",
   "metadata": {},
   "outputs": [
    {
     "data": {
      "image/png": "[encoded data removed]",
      "text/plain": [
       "<Figure size 800x500 with 1 Axes>"
      ]
     },
     "metadata": {},
     "output_type": "display_data"
    }
   ],
   "source": [
    "sse = []\n",
    "K = range(1, 11)\n",
    "for k in K:\n",
    "    km = KMeans(n_clusters=k, random_state=42)\n",
    "    km.fit(X_scaled)\n",
    "    sse.append(km.inertia_)\n",
    "\n",
    "plt.figure(figsize=(8,5))\n",
    "plt.plot(K, sse, 'bo-')\n",
    "plt.title('Elbow Method: SSE vs. k')\n",
    "plt.xlabel('Number of clusters k')\n",
    "plt.ylabel('Sum of squared distances')\n",
    "plt.xticks(K)\n",
    "plt.show()"
   ]
  },
  {
   "cell_type": "markdown",
   "id": "4f1d751f-c477-4985-b131-43bd6a52d0f8",
   "metadata": {},
   "source": [
    "##### there’s a clear “elbow” at k = 3.  \n",
    "This suggests that **3 clusters** is the optimal choice for our two-feature chocolate data.\n"
   ]
  },
  {
   "cell_type": "markdown",
   "id": "1deb812e-d48d-48cc-a161-3a00cbe39f17",
   "metadata": {},
   "source": [
    "### k-means clustering\n"
   ]
  },
  {
   "cell_type": "code",
   "execution_count": 27,
   "id": "dbed7acb-0c56-4f9f-9704-1fb1dfa12051",
   "metadata": {},
   "outputs": [],
   "source": [
    "# Fit k-means with k=3\n",
    "k = 3\n",
    "kmeans = KMeans(n_clusters=k, random_state=42)\n",
    "labels = kmeans.fit_predict(X_scaled)"
   ]
  },
  {
   "cell_type": "code",
   "execution_count": 28,
   "id": "a73103e0-cc35-4ec8-9477-d55073af0651",
   "metadata": {},
   "outputs": [
    {
     "data": {
      "text/html": [
       "<div>\n",
       "<style scoped>\n",
       "    .dataframe tbody tr th:only-of-type {\n",
       "        vertical-align: middle;\n",
       "    }\n",
       "\n",
       "    .dataframe tbody tr th {\n",
       "        vertical-align: top;\n",
       "    }\n",
       "\n",
       "    .dataframe thead th {\n",
       "        text-align: right;\n",
       "    }\n",
       "</style>\n",
       "<table border=\"1\" class=\"dataframe\">\n",
       "  <thead>\n",
       "    <tr style=\"text-align: right;\">\n",
       "      <th></th>\n",
       "      <th>Company</th>\n",
       "      <th>ReviewDate</th>\n",
       "      <th>CocoaPercent</th>\n",
       "      <th>Location</th>\n",
       "      <th>Rating</th>\n",
       "      <th>BeanType</th>\n",
       "      <th>BroadOrigin</th>\n",
       "      <th>Cluster</th>\n",
       "    </tr>\n",
       "  </thead>\n",
       "  <tbody>\n",
       "    <tr>\n",
       "      <th>0</th>\n",
       "      <td>A. Morin</td>\n",
       "      <td>2016</td>\n",
       "      <td>63.0</td>\n",
       "      <td>France</td>\n",
       "      <td>3.75</td>\n",
       "      <td></td>\n",
       "      <td>Sao Tome</td>\n",
       "      <td>2</td>\n",
       "    </tr>\n",
       "    <tr>\n",
       "      <th>1</th>\n",
       "      <td>A. Morin</td>\n",
       "      <td>2015</td>\n",
       "      <td>70.0</td>\n",
       "      <td>France</td>\n",
       "      <td>2.75</td>\n",
       "      <td></td>\n",
       "      <td>Togo</td>\n",
       "      <td>0</td>\n",
       "    </tr>\n",
       "    <tr>\n",
       "      <th>2</th>\n",
       "      <td>A. Morin</td>\n",
       "      <td>2015</td>\n",
       "      <td>70.0</td>\n",
       "      <td>France</td>\n",
       "      <td>3.00</td>\n",
       "      <td></td>\n",
       "      <td>Togo</td>\n",
       "      <td>0</td>\n",
       "    </tr>\n",
       "    <tr>\n",
       "      <th>3</th>\n",
       "      <td>A. Morin</td>\n",
       "      <td>2015</td>\n",
       "      <td>70.0</td>\n",
       "      <td>France</td>\n",
       "      <td>3.50</td>\n",
       "      <td></td>\n",
       "      <td>Togo</td>\n",
       "      <td>2</td>\n",
       "    </tr>\n",
       "    <tr>\n",
       "      <th>4</th>\n",
       "      <td>A. Morin</td>\n",
       "      <td>2015</td>\n",
       "      <td>70.0</td>\n",
       "      <td>France</td>\n",
       "      <td>3.50</td>\n",
       "      <td></td>\n",
       "      <td>Peru</td>\n",
       "      <td>2</td>\n",
       "    </tr>\n",
       "  </tbody>\n",
       "</table>\n",
       "</div>"
      ],
      "text/plain": [
       "    Company  ReviewDate  CocoaPercent Location  Rating BeanType BroadOrigin  \\\n",
       "0  A. Morin        2016          63.0   France    3.75             Sao Tome   \n",
       "1  A. Morin        2015          70.0   France    2.75                 Togo   \n",
       "2  A. Morin        2015          70.0   France    3.00                 Togo   \n",
       "3  A. Morin        2015          70.0   France    3.50                 Togo   \n",
       "4  A. Morin        2015          70.0   France    3.50                 Peru   \n",
       "\n",
       "   Cluster  \n",
       "0        2  \n",
       "1        0  \n",
       "2        0  \n",
       "3        2  \n",
       "4        2  "
      ]
     },
     "execution_count": 28,
     "metadata": {},
     "output_type": "execute_result"
    }
   ],
   "source": [
    "# Attach cluster labels\n",
    "df['Cluster'] = labels\n",
    "df.head()"
   ]
  },
  {
   "cell_type": "code",
   "execution_count": 29,
   "id": "ff745fd3-d95d-4dce-a4ea-74b7a49248e5",
   "metadata": {},
   "outputs": [
    {
     "data": {
      "text/plain": [
       "Cluster\n",
       "2    892\n",
       "0    574\n",
       "1    329\n",
       "Name: count, dtype: int64"
      ]
     },
     "execution_count": 29,
     "metadata": {},
     "output_type": "execute_result"
    }
   ],
   "source": [
    "# Count per cluster\n",
    "df['Cluster'].value_counts()"
   ]
  },
  {
   "cell_type": "code",
   "execution_count": 30,
   "id": "9579e527-1fc1-4412-89c3-0b41a7c8dc26",
   "metadata": {},
   "outputs": [
    {
     "data": {
      "image/png": "[encoded data removed]",
      "text/plain": [
       "<Figure size 800x600 with 1 Axes>"
      ]
     },
     "metadata": {},
     "output_type": "display_data"
    }
   ],
   "source": [
    "### Visualization of clusters\n",
    "\n",
    "plt.figure(figsize=(8,6))\n",
    "palette = sns.color_palette('bright', k)\n",
    "sns.scatterplot(\n",
    "    x='CocoaPercent', y='Rating',\n",
    "    hue='Cluster', palette=palette,\n",
    "    data=df, legend='full'\n",
    ")\n",
    "plt.title(f'k-Means Clusters (k={k})')\n",
    "plt.xlabel('Cocoa Percent (%)')\n",
    "plt.ylabel('Rating')\n",
    "plt.legend(title='Cluster')\n",
    "plt.show()"
   ]
  },
  {
   "cell_type": "markdown",
   "id": "b118492a-4c64-4c12-85ea-c27295aec9bb",
   "metadata": {},
   "source": [
    "## Discussion of Cluster Validity\n",
    "\n",
    "- **Cluster 0 (Low Cocoa%, Moderate Ratings)**  \n",
    "  - Contains bars with lower cocoa content (around 50–65%) and moderately high ratings.  \n",
    "  - Makes sense because many consumers prefer balanced dark‐to‐milk chocolate blends.\n",
    "\n",
    "- **Cluster 1 (Mid Cocoa%, Highest Ratings)**  \n",
    "  - Centers around mid‐range cocoa levels (65–75%) and the highest average ratings.  \n",
    "  - This aligns with “sweet spot” flavor profiles—enough cocoa to taste complexity without excessive bitterness.\n",
    "\n",
    "- **Cluster 2 (High Cocoa%, Lower Ratings)**  \n",
    "  - Captures very dark bars (75–100% cocoa) with lower ratings.  \n",
    "  - Reflects that intense dark chocolate appeals to a narrower audience, lowering average scores."
   ]
  },
  {
   "cell_type": "code",
   "execution_count": 32,
   "id": "7c224be4-af4c-4ef7-b0d4-ac8c1315ebc6",
   "metadata": {},
   "outputs": [
    {
     "data": {
      "text/html": [
       "<div>\n",
       "<style scoped>\n",
       "    .dataframe tbody tr th:only-of-type {\n",
       "        vertical-align: middle;\n",
       "    }\n",
       "\n",
       "    .dataframe tbody tr th {\n",
       "        vertical-align: top;\n",
       "    }\n",
       "\n",
       "    .dataframe thead tr th {\n",
       "        text-align: left;\n",
       "    }\n",
       "\n",
       "    .dataframe thead tr:last-of-type th {\n",
       "        text-align: right;\n",
       "    }\n",
       "</style>\n",
       "<table border=\"1\" class=\"dataframe\">\n",
       "  <thead>\n",
       "    <tr>\n",
       "      <th></th>\n",
       "      <th colspan=\"5\" halign=\"left\">CocoaPercent</th>\n",
       "      <th colspan=\"5\" halign=\"left\">Rating</th>\n",
       "    </tr>\n",
       "    <tr>\n",
       "      <th></th>\n",
       "      <th>count</th>\n",
       "      <th>mean</th>\n",
       "      <th>std</th>\n",
       "      <th>min</th>\n",
       "      <th>max</th>\n",
       "      <th>count</th>\n",
       "      <th>mean</th>\n",
       "      <th>std</th>\n",
       "      <th>min</th>\n",
       "      <th>max</th>\n",
       "    </tr>\n",
       "    <tr>\n",
       "      <th>Cluster</th>\n",
       "      <th></th>\n",
       "      <th></th>\n",
       "      <th></th>\n",
       "      <th></th>\n",
       "      <th></th>\n",
       "      <th></th>\n",
       "      <th></th>\n",
       "      <th></th>\n",
       "      <th></th>\n",
       "      <th></th>\n",
       "    </tr>\n",
       "  </thead>\n",
       "  <tbody>\n",
       "    <tr>\n",
       "      <th>0</th>\n",
       "      <td>574</td>\n",
       "      <td>68.125436</td>\n",
       "      <td>4.654647</td>\n",
       "      <td>42.0</td>\n",
       "      <td>74.0</td>\n",
       "      <td>574</td>\n",
       "      <td>2.812282</td>\n",
       "      <td>0.313208</td>\n",
       "      <td>1.00</td>\n",
       "      <td>3.25</td>\n",
       "    </tr>\n",
       "    <tr>\n",
       "      <th>1</th>\n",
       "      <td>329</td>\n",
       "      <td>80.659574</td>\n",
       "      <td>6.692705</td>\n",
       "      <td>75.0</td>\n",
       "      <td>100.0</td>\n",
       "      <td>329</td>\n",
       "      <td>2.837386</td>\n",
       "      <td>0.425646</td>\n",
       "      <td>1.00</td>\n",
       "      <td>4.00</td>\n",
       "    </tr>\n",
       "    <tr>\n",
       "      <th>2</th>\n",
       "      <td>892</td>\n",
       "      <td>70.692265</td>\n",
       "      <td>3.345227</td>\n",
       "      <td>50.0</td>\n",
       "      <td>82.0</td>\n",
       "      <td>892</td>\n",
       "      <td>3.554933</td>\n",
       "      <td>0.243451</td>\n",
       "      <td>3.25</td>\n",
       "      <td>5.00</td>\n",
       "    </tr>\n",
       "  </tbody>\n",
       "</table>\n",
       "</div>"
      ],
      "text/plain": [
       "        CocoaPercent                                   Rating            \\\n",
       "               count       mean       std   min    max  count      mean   \n",
       "Cluster                                                                   \n",
       "0                574  68.125436  4.654647  42.0   74.0    574  2.812282   \n",
       "1                329  80.659574  6.692705  75.0  100.0    329  2.837386   \n",
       "2                892  70.692265  3.345227  50.0   82.0    892  3.554933   \n",
       "\n",
       "                               \n",
       "              std   min   max  \n",
       "Cluster                        \n",
       "0        0.313208  1.00  3.25  \n",
       "1        0.425646  1.00  4.00  \n",
       "2        0.243451  3.25  5.00  "
      ]
     },
     "execution_count": 32,
     "metadata": {},
     "output_type": "execute_result"
    }
   ],
   "source": [
    "### Descriptive statistics by cluster\n",
    "\n",
    "cluster_stats = df.groupby('Cluster')[['CocoaPercent','Rating']].agg(\n",
    "    ['count','mean','std','min','max']\n",
    ")\n",
    "cluster_stats\n"
   ]
  },
  {
   "cell_type": "markdown",
   "id": "948c9433-831a-437c-bcf5-5282792024c6",
   "metadata": {},
   "source": [
    "## Future Analytics Pipeline Applications\n",
    "\n",
    "1. **Targeted Product Development & Marketing**  \n",
    "   - Design new chocolate lines tailored to each cluster’s taste profile (e.g., mid-cocoa “sweet spot” bars for widest appeal).  \n",
    "   - Deploy personalized marketing campaigns and promotions by cluster segment.\n",
    "\n",
    "2. **Customer Segmentation & Recommendation Engines**  \n",
    "   - Map consumer purchase histories to clusters to drive in-app or email recommendations for similar bars.  \n",
    "   - Increase loyalty by suggesting products within a consumer’s preferred cluster.\n",
    "\n",
    "3. **Inventory & Supply Chain Optimization**  \n",
    "   - Forecast demand per cluster segment to better align production volumes and raw-material sourcing.  \n",
    "   - Tailor inventory distribution to regional preferences if you map clusters back to sales geographies.\n"
   ]
  }
 ],
 "metadata": {
  "kernelspec": {
   "display_name": "Python [conda env:base] *",
   "language": "python",
   "name": "conda-base-py"
  },
  "language_info": {
   "codemirror_mode": {
    "name": "ipython",
    "version": 3
   },
   "file_extension": ".py",
   "mimetype": "text/x-python",
   "name": "python",
   "nbconvert_exporter": "python",
   "pygments_lexer": "ipython3",
   "version": "3.12.7"
  }
 },
 "nbformat": 4,
 "nbformat_minor": 5
}
