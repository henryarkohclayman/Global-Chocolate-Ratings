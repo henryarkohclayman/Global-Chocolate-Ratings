{
 "cells": [
  {
   "cell_type": "markdown",
   "id": "6a0b1792-7f28-4699-9155-3f481da53bb3",
   "metadata": {},
   "source": [
    "6.4 Machine Learning Part 1"
   ]
  },
  {
   "cell_type": "markdown",
   "id": "c4663ba3-181e-451a-91f0-4b818bfe7105",
   "metadata": {},
   "source": [
    "This script contains the following:\n",
    "1. Importing libraries and data\n",
    "2. Data cleaning\n",
    "3. Data prep for regression analysis\n",
    "4. Regression analysis"
   ]
  },
  {
   "cell_type": "markdown",
   "id": "79b4abef-5b47-4129-9b91-a8e182c5afbd",
   "metadata": {},
   "source": [
    "01 Import Libraries"
   ]
  },
  {
   "cell_type": "code",
   "execution_count": 2,
   "id": "0cd12220-dabf-4a95-83f8-e65dc3d396b0",
   "metadata": {},
   "outputs": [],
   "source": [
    "import pandas as pd\n",
    "import numpy as np\n",
    "import seaborn as sns\n",
    "import matplotlib\n",
    "import matplotlib.pyplot as plt\n",
    "import os\n",
    "import sklearn\n",
    "from sklearn.model_selection import train_test_split \n",
    "from sklearn.linear_model import LinearRegression\n",
    "from sklearn.metrics import mean_squared_error, r2_score"
   ]
  },
  {
   "cell_type": "code",
   "execution_count": 4,
   "id": "3993bc94-6026-42f7-b3ef-2c3551ede19e",
   "metadata": {},
   "outputs": [],
   "source": [
    "# This option ensures that the graphs you create are displayed within the notebook without the need to \"call\" them specifically.\n",
    "\n",
    "%matplotlib inline"
   ]
  },
  {
   "cell_type": "markdown",
   "id": "a324ce9d-6ec6-48c2-9a84-44d77b69b873",
   "metadata": {},
   "source": [
    "02 Import Dataframe"
   ]
  },
  {
   "cell_type": "code",
   "execution_count": 8,
   "id": "5eada809-cee7-43a9-b13f-907fac877182",
   "metadata": {},
   "outputs": [],
   "source": [
    "# Importing dataframe\n",
    "path = r'C:\\Users\\henry\\OneDrive\\Achievement 6'\n",
    "df = pd.read_csv(os.path.join(path, 'Data', 'flavors_of_cacao_cleaned.csv'))"
   ]
  },
  {
   "cell_type": "markdown",
   "id": "7a6c0546-b936-43a9-a2cf-f8df0f7b8d59",
   "metadata": {},
   "source": [
    "03 Data Cleaning"
   ]
  },
  {
   "cell_type": "code",
   "execution_count": 11,
   "id": "d086c529-8ace-4a69-a260-1a00f0fc7be0",
   "metadata": {},
   "outputs": [
    {
     "data": {
      "text/plain": [
       "<bound method NDFrame.head of      Company  (Maker-if known)             BarName   REF  ReviewDate  \\\n",
       "0                     A. Morin         Agua Grande  1876        2016   \n",
       "1                     A. Morin               Kpime  1676        2015   \n",
       "2                     A. Morin              Atsane  1676        2015   \n",
       "3                     A. Morin               Akata  1680        2015   \n",
       "4                     A. Morin              Quilla  1704        2015   \n",
       "...                        ...                 ...   ...         ...   \n",
       "1790                    Zotter                Peru   647        2011   \n",
       "1791                    Zotter               Congo   749        2011   \n",
       "1792                    Zotter        Kerala State   749        2011   \n",
       "1793                    Zotter        Kerala State   781        2011   \n",
       "1794                    Zotter  Brazil, Mitzi Blue   486        2010   \n",
       "\n",
       "      CocoaPercent Location  Rating   BeanType BroadOrigin  \n",
       "0             63.0   France    3.75               Sao Tome  \n",
       "1             70.0   France    2.75                   Togo  \n",
       "2             70.0   France    3.00                   Togo  \n",
       "3             70.0   France    3.50                   Togo  \n",
       "4             70.0   France    3.50                   Peru  \n",
       "...            ...      ...     ...        ...         ...  \n",
       "1790          70.0  Austria    3.75                   Peru  \n",
       "1791          65.0  Austria    3.00  Forastero       Congo  \n",
       "1792          65.0  Austria    3.50  Forastero       India  \n",
       "1793          62.0  Austria    3.25                  India  \n",
       "1794          65.0  Austria    3.00                 Brazil  \n",
       "\n",
       "[1795 rows x 9 columns]>"
      ]
     },
     "execution_count": 11,
     "metadata": {},
     "output_type": "execute_result"
    }
   ],
   "source": [
    "df.head\n"
   ]
  },
  {
   "cell_type": "code",
   "execution_count": 13,
   "id": "4562108c-5ae2-4689-b720-e65d5b24e168",
   "metadata": {},
   "outputs": [],
   "source": [
    "# Drop columns not used in EDA\n",
    "for col in ['REF', 'BarName']:\n",
    "    if col in df.columns:\n",
    "        df.drop(columns=col, inplace=True)"
   ]
  },
  {
   "cell_type": "code",
   "execution_count": 15,
   "id": "c9e3bdab-a79d-47e5-952d-2665ea251cf1",
   "metadata": {},
   "outputs": [
    {
     "data": {
      "text/plain": [
       "((1795, 7),\n",
       " ['Company\\xa0 (Maker-if known)',\n",
       "  'ReviewDate',\n",
       "  'CocoaPercent',\n",
       "  'Location',\n",
       "  'Rating',\n",
       "  'BeanType',\n",
       "  'BroadOrigin'])"
      ]
     },
     "execution_count": 15,
     "metadata": {},
     "output_type": "execute_result"
    }
   ],
   "source": [
    "# Confirm final shape and columns\n",
    "df.shape, df.columns.tolist()"
   ]
  },
  {
   "cell_type": "code",
   "execution_count": 17,
   "id": "6949e1ac-63ff-44fb-a706-38366dd7b89c",
   "metadata": {},
   "outputs": [],
   "source": [
    "# Normalize all column names: replace any \\xa0 with a normal space, then strip leading/trailing whitespace\n",
    "df.columns = [col.replace('\\xa0', ' ').strip() for col in df.columns]"
   ]
  },
  {
   "cell_type": "code",
   "execution_count": 19,
   "id": "d693854c-d1f8-4f2c-bf3b-59a52db8f35a",
   "metadata": {},
   "outputs": [
    {
     "data": {
      "text/plain": [
       "['Company',\n",
       " 'ReviewDate',\n",
       " 'CocoaPercent',\n",
       " 'Location',\n",
       " 'Rating',\n",
       " 'BeanType',\n",
       " 'BroadOrigin']"
      ]
     },
     "execution_count": 19,
     "metadata": {},
     "output_type": "execute_result"
    }
   ],
   "source": [
    "# Now rename the cleaned header\n",
    "df.rename(columns={'Company  (Maker-if known)': 'Company'}, inplace=True)\n",
    "df.columns.tolist()"
   ]
  },
  {
   "cell_type": "code",
   "execution_count": 21,
   "id": "a251146b-6f9a-410f-8ce0-1d4ce16889f6",
   "metadata": {},
   "outputs": [
    {
     "data": {
      "text/plain": [
       "Company         0\n",
       "ReviewDate      0\n",
       "CocoaPercent    0\n",
       "Location        0\n",
       "Rating          0\n",
       "BeanType        0\n",
       "BroadOrigin     1\n",
       "dtype: int64"
      ]
     },
     "execution_count": 21,
     "metadata": {},
     "output_type": "execute_result"
    }
   ],
   "source": [
    "# Check for missing values\n",
    "df.isnull().sum()"
   ]
  },
  {
   "cell_type": "code",
   "execution_count": 23,
   "id": "7178695a-ce15-4fad-b82c-8bff867075ea",
   "metadata": {},
   "outputs": [],
   "source": [
    "# replace missing value for the BroadOrigin column with unknown\n",
    "df['BroadOrigin'] = df['BroadOrigin'].fillna('unknown')"
   ]
  },
  {
   "cell_type": "code",
   "execution_count": 25,
   "id": "3df54c55-030a-4d58-bbe2-c18a94e1d3fc",
   "metadata": {},
   "outputs": [
    {
     "data": {
      "text/plain": [
       "Company         0\n",
       "ReviewDate      0\n",
       "CocoaPercent    0\n",
       "Location        0\n",
       "Rating          0\n",
       "BeanType        0\n",
       "BroadOrigin     0\n",
       "dtype: int64"
      ]
     },
     "execution_count": 25,
     "metadata": {},
     "output_type": "execute_result"
    }
   ],
   "source": [
    "# Verify replacement\n",
    "df.isnull().sum()"
   ]
  },
  {
   "cell_type": "code",
   "execution_count": 27,
   "id": "6b66836c-8a54-4c5b-9502-a353751aca57",
   "metadata": {},
   "outputs": [],
   "source": [
    "# Duplicates check\n",
    "dups = df.duplicated()"
   ]
  },
  {
   "cell_type": "code",
   "execution_count": 29,
   "id": "6f30a6fc-1b92-4da2-9e65-4e5527c130e1",
   "metadata": {},
   "outputs": [
    {
     "data": {
      "text/plain": [
       "(1795,)"
      ]
     },
     "execution_count": 29,
     "metadata": {},
     "output_type": "execute_result"
    }
   ],
   "source": [
    "dups.shape"
   ]
  },
  {
   "cell_type": "markdown",
   "id": "f52f9251-5fd2-457a-b123-d2db3caaf449",
   "metadata": {},
   "source": [
    "No duplicates"
   ]
  },
  {
   "cell_type": "markdown",
   "id": "36ed43d6-2a19-4018-82f8-781937f59238",
   "metadata": {},
   "source": [
    "# Data prep for regression\n"
   ]
  },
  {
   "cell_type": "code",
   "execution_count": 33,
   "id": "ad9badfa-521a-449c-aaf0-e298caa131b8",
   "metadata": {},
   "outputs": [
    {
     "data": {
      "image/png": "[encoded data removed]",
      "text/plain": [
       "<Figure size 800x600 with 1 Axes>"
      ]
     },
     "metadata": {},
     "output_type": "display_data"
    }
   ],
   "source": [
    "# Visual check\n",
    "plt.figure(figsize=(8,6))\n",
    "sns.scatterplot(x='CocoaPercent', y='Rating', data=df)\n",
    "plt.title('CocoaPercent vs Rating')\n",
    "plt.show()"
   ]
  },
  {
   "cell_type": "code",
   "execution_count": 35,
   "id": "744c8322-119f-49fc-a3e1-2dd8fbd3f5d5",
   "metadata": {},
   "outputs": [],
   "source": [
    "# Define X (feature) and y (target)\n",
    "X = df[['CocoaPercent']].values\n",
    "y = df['Rating'].values"
   ]
  },
  {
   "cell_type": "code",
   "execution_count": 37,
   "id": "8f480c49-8e77-4dee-b950-a6cbb217d845",
   "metadata": {},
   "outputs": [],
   "source": [
    "# Split into train/test\n",
    "X_train, X_test, y_train, y_test = train_test_split(\n",
    "    X, y, test_size=0.3, random_state=42\n",
    ")"
   ]
  },
  {
   "cell_type": "markdown",
   "id": "0b25c44f-7d82-4554-b292-8db3e49692a4",
   "metadata": {},
   "source": [
    "# Hypothesis\n",
    "\"Higher cocoa percentage is associated with lower average chocolate ratings.”"
   ]
  },
  {
   "cell_type": "markdown",
   "id": "a7c21680-f55f-4059-a3db-81ea16706eb9",
   "metadata": {},
   "source": [
    "Regression analysis\n"
   ]
  },
  {
   "cell_type": "code",
   "execution_count": 41,
   "id": "b598ccec-a22c-452b-a263-5744beb27766",
   "metadata": {},
   "outputs": [],
   "source": [
    "# Fit linear regression\n",
    "model = LinearRegression()\n",
    "model.fit(X_train, y_train)\n",
    "y_pred = model.predict(X_test)"
   ]
  },
  {
   "cell_type": "code",
   "execution_count": 43,
   "id": "5b00e535-2cf0-4347-933e-815037f54bb7",
   "metadata": {},
   "outputs": [
    {
     "data": {
      "image/png": "[encoded data removed]",
      "text/plain": [
       "<Figure size 800x600 with 1 Axes>"
      ]
     },
     "metadata": {},
     "output_type": "display_data"
    }
   ],
   "source": [
    "# Plot regression line on test set\n",
    "plt.figure(figsize=(8,6))\n",
    "plt.scatter(X_test, y_test, alpha=0.6, label='Actual')\n",
    "line_X = np.linspace(X_test.min(), X_test.max(), 100).reshape(-1,1)\n",
    "plt.plot(line_X, model.predict(line_X), color='red', label='Fit')\n",
    "plt.title('Regression: CocoaPercent vs Rating')\n",
    "plt.xlabel('CocoaPercent (%)')\n",
    "plt.ylabel('Rating')\n",
    "plt.legend()\n",
    "plt.show()"
   ]
  },
  {
   "cell_type": "markdown",
   "id": "bba98871-3921-4586-aa20-7689c5610adc",
   "metadata": {},
   "source": [
    "# Interpretation of Regression Fit\n",
    "\n",
    "- **Slope & Direction**  \n",
    "  The regression line has a **slight negative slope**, confirming our hypothesis that higher cocoa percentages tend to be associated with lower average ratings.\n"
   ]
  },
  {
   "cell_type": "code",
   "execution_count": 45,
   "id": "cdd7752d-967d-4e14-8fb5-fd7bd4abf3c9",
   "metadata": {},
   "outputs": [
    {
     "name": "stdout",
     "output_type": "stream",
     "text": [
      "Mean Squared Error: 0.22\n",
      "R² Score: 0.00\n"
     ]
    }
   ],
   "source": [
    "# Performance metrics\n",
    "mse = mean_squared_error(y_test, y_pred)\n",
    "r2  = r2_score(y_test, y_pred)\n",
    "print(f\"Mean Squared Error: {mse:.2f}\")\n",
    "print(f\"R² Score: {r2:.2f}\")"
   ]
  },
  {
   "cell_type": "code",
   "execution_count": 47,
   "id": "abcc7082-8304-4a88-8b77-2d840f71b052",
   "metadata": {},
   "outputs": [
    {
     "data": {
      "text/html": [
       "<div>\n",
       "<style scoped>\n",
       "    .dataframe tbody tr th:only-of-type {\n",
       "        vertical-align: middle;\n",
       "    }\n",
       "\n",
       "    .dataframe tbody tr th {\n",
       "        vertical-align: top;\n",
       "    }\n",
       "\n",
       "    .dataframe thead th {\n",
       "        text-align: right;\n",
       "    }\n",
       "</style>\n",
       "<table border=\"1\" class=\"dataframe\">\n",
       "  <thead>\n",
       "    <tr style=\"text-align: right;\">\n",
       "      <th></th>\n",
       "      <th>Actual</th>\n",
       "      <th>Predicted</th>\n",
       "    </tr>\n",
       "  </thead>\n",
       "  <tbody>\n",
       "    <tr>\n",
       "      <th>0</th>\n",
       "      <td>3.00</td>\n",
       "      <td>3.138328</td>\n",
       "    </tr>\n",
       "    <tr>\n",
       "      <th>1</th>\n",
       "      <td>3.75</td>\n",
       "      <td>3.211284</td>\n",
       "    </tr>\n",
       "    <tr>\n",
       "      <th>2</th>\n",
       "      <td>3.50</td>\n",
       "      <td>3.211284</td>\n",
       "    </tr>\n",
       "    <tr>\n",
       "      <th>3</th>\n",
       "      <td>3.50</td>\n",
       "      <td>3.167511</td>\n",
       "    </tr>\n",
       "    <tr>\n",
       "      <th>4</th>\n",
       "      <td>3.00</td>\n",
       "      <td>3.211284</td>\n",
       "    </tr>\n",
       "    <tr>\n",
       "      <th>5</th>\n",
       "      <td>3.00</td>\n",
       "      <td>3.182102</td>\n",
       "    </tr>\n",
       "    <tr>\n",
       "      <th>6</th>\n",
       "      <td>2.75</td>\n",
       "      <td>3.152919</td>\n",
       "    </tr>\n",
       "    <tr>\n",
       "      <th>7</th>\n",
       "      <td>3.75</td>\n",
       "      <td>3.211284</td>\n",
       "    </tr>\n",
       "    <tr>\n",
       "      <th>8</th>\n",
       "      <td>2.50</td>\n",
       "      <td>3.065372</td>\n",
       "    </tr>\n",
       "    <tr>\n",
       "      <th>9</th>\n",
       "      <td>3.25</td>\n",
       "      <td>3.211284</td>\n",
       "    </tr>\n",
       "  </tbody>\n",
       "</table>\n",
       "</div>"
      ],
      "text/plain": [
       "   Actual  Predicted\n",
       "0    3.00   3.138328\n",
       "1    3.75   3.211284\n",
       "2    3.50   3.211284\n",
       "3    3.50   3.167511\n",
       "4    3.00   3.211284\n",
       "5    3.00   3.182102\n",
       "6    2.75   3.152919\n",
       "7    3.75   3.211284\n",
       "8    2.50   3.065372\n",
       "9    3.25   3.211284"
      ]
     },
     "execution_count": 47,
     "metadata": {},
     "output_type": "execute_result"
    }
   ],
   "source": [
    "# Compare actual vs. predicted\n",
    "pd.DataFrame({\n",
    "    'Actual': y_test,\n",
    "    'Predicted': y_pred\n",
    "}).head(10)"
   ]
  },
  {
   "cell_type": "markdown",
   "id": "e1c19d30-aef0-439c-855f-45b5204a3d1a",
   "metadata": {},
   "source": [
    "### Model Performance on the Test Set\n",
    "\n",
    "- **Mean Squared Error (MSE):** The model’s MSE of *\\<0.22\\>* indicates the average squared deviation between predicted and actual ratings, which is fairly large relative to the rating scale (1–5), showing substantial prediction error.  \n",
    "- **Visual Fit:** The scatter of test‐set points around the red regression line reveals considerable residuals, especially for mid‐range cocoa percentages where the data are densest. Overall, the fit is weak to moderate—sufficient to illustrate a downward trend but not reliable for precise prediction.\n",
    "\n",
    "### Reflections on Data Bias\n",
    "\n",
    "- **Sampling Bias:** Our dataset may over‐represent certain countries, companies, or bean types (e.g., popular bar producers), skewing average ratings upward or downward depending on reviewer demographics.  \n",
    "- **Reviewer Bias:** Ratings are subjective; cultural or regional taste preferences could systematically influence scores, making some origins look better or worse simply due to reviewer palate rather than objective quality.  \n",
    "  \n"
   ]
  },
  {
   "cell_type": "code",
   "execution_count": null,
   "id": "c748df2a-ebdd-447a-bb4e-868b5e9bbbc7",
   "metadata": {},
   "outputs": [],
   "source": []
  }
 ],
 "metadata": {
  "kernelspec": {
   "display_name": "Python [conda env:base] *",
   "language": "python",
   "name": "conda-base-py"
  },
  "language_info": {
   "codemirror_mode": {
    "name": "ipython",
    "version": 3
   },
   "file_extension": ".py",
   "mimetype": "text/x-python",
   "name": "python",
   "nbconvert_exporter": "python",
   "pygments_lexer": "ipython3",
   "version": "3.12.7"
  }
 },
 "nbformat": 4,
 "nbformat_minor": 5
}
